{
 "cells": [
  {
   "cell_type": "markdown",
   "metadata": {},
   "source": [
    "### 1. Load molecule"
   ]
  },
  {
   "cell_type": "markdown",
   "metadata": {},
   "source": [
    "Make sure to install RDKit before running this example notebook:\n",
    "\n",
    "```\n",
    "conda install -c conda-forge rdkit\n",
    "```"
   ]
  },
  {
   "cell_type": "code",
   "execution_count": 1,
   "metadata": {
    "scrolled": true
   },
   "outputs": [],
   "source": [
    "from qdk.chemistry import Molecule"
   ]
  },
  {
   "cell_type": "code",
   "execution_count": 2,
   "metadata": {},
   "outputs": [],
   "source": [
    "caffeine = Molecule.from_xyz(\"data/xyz/caffeine.xyz\")"
   ]
  },
  {
   "cell_type": "code",
   "execution_count": 3,
   "metadata": {},
   "outputs": [
    {
     "data": {
      "application/vnd.jupyter.widget-view+json": {
       "model_id": "510988073091473ca269305af1ce1816",
       "version_major": 2,
       "version_minor": 0
      },
      "text/plain": [
       "JsmolWidget(layout=Layout(align_self='stretch', height='400px'))"
      ]
     },
     "metadata": {},
     "output_type": "display_data"
    }
   ],
   "source": [
    "caffeine"
   ]
  },
  {
   "cell_type": "code",
   "execution_count": 4,
   "metadata": {},
   "outputs": [
    {
     "name": "stdout",
     "output_type": "stream",
     "text": [
      "24\r\n",
      "Caffeine\r\n",
      "H      -3.3804130    -1.1272367     0.5733036\r\n",
      "N       0.9668296    -1.0737425    -0.8198227\r\n",
      "C       0.0567293     0.8527195     0.3923156\r\n",
      "N      -1.3751742    -1.0212243    -0.0570552\r\n",
      "C      -1.2615018     0.2590713     0.5234135\r\n",
      "C      -0.3068337    -1.6836331    -0.7169344\r\n",
      "C       1.1394235     0.1874122    -0.2700900\r\n",
      "N       0.5602627     2.0839095     0.8251589\r\n",
      "O      -0.4926797    -2.8180554    -1.2094732\r\n",
      "C      -2.6328073    -1.7303959    -0.0060953\r\n",
      "O      -2.2301338     0.7988624     1.0899730\r\n",
      "H       2.5496990     2.9734977     0.6229590\r\n",
      "C       2.0527432    -1.7360887    -1.4931279\r\n",
      "H      -2.4807715    -2.7269528     0.4882631\r\n",
      "H      -3.0089039    -1.9025254    -1.0498023\r\n",
      "H       2.9176101    -1.8481516    -0.7857866\r\n",
      "H       2.3787863    -1.1211917    -2.3743655\r\n",
      "H       1.7189877    -2.7489920    -1.8439205\r\n",
      "C      -0.1518450     3.0970046     1.5348347\r\n",
      "C       1.8934096     2.1181245     0.4193193\r\n",
      "N       2.2861252     0.9968439    -0.2440298\r\n",
      "H      -0.1687028     4.0436553     0.9301094\r\n",
      "H       0.3535322     3.2979060     2.5177747\r\n",
      "H      -1.2074498     2.7537592     1.7203047\r\n"
     ]
    }
   ],
   "source": [
    "with open(\"data/xyz/caffeine.xyz\", \"r\") as f:\n",
    "    print(f.read())"
   ]
  },
  {
   "cell_type": "code",
   "execution_count": 5,
   "metadata": {},
   "outputs": [
    {
     "data": {
      "image/png": "[encoded data removed]",
      "text/plain": [
       "<rdkit.Chem.rdchem.Mol at 0x7fe72b674580>"
      ]
     },
     "execution_count": 5,
     "metadata": {},
     "output_type": "execute_result"
    }
   ],
   "source": [
    "caffeine.mol"
   ]
  },
  {
   "cell_type": "code",
   "execution_count": 6,
   "metadata": {},
   "outputs": [
    {
     "data": {
      "text/plain": [
       "rdkit.Chem.rdchem.Mol"
      ]
     },
     "execution_count": 6,
     "metadata": {},
     "output_type": "execute_result"
    }
   ],
   "source": [
    "type(caffeine.mol)"
   ]
  },
  {
   "cell_type": "code",
   "execution_count": 7,
   "metadata": {},
   "outputs": [
    {
     "data": {
      "text/plain": [
       "'[H]Cn1c(=O)c2c(ncn2C)n(C)c1=O'"
      ]
     },
     "execution_count": 7,
     "metadata": {},
     "output_type": "execute_result"
    }
   ],
   "source": [
    "caffeine.smiles"
   ]
  },
  {
   "cell_type": "code",
   "execution_count": 8,
   "metadata": {},
   "outputs": [
    {
     "data": {
      "text/plain": [
       "102"
      ]
     },
     "execution_count": 8,
     "metadata": {},
     "output_type": "execute_result"
    }
   ],
   "source": [
    "caffeine.num_electrons"
   ]
  },
  {
   "cell_type": "code",
   "execution_count": 9,
   "metadata": {},
   "outputs": [
    {
     "data": {
      "text/plain": [
       "[1, 6, 7, 8]"
      ]
     },
     "execution_count": 9,
     "metadata": {},
     "output_type": "execute_result"
    }
   ],
   "source": [
    "caffeine.atoms"
   ]
  },
  {
   "cell_type": "markdown",
   "metadata": {},
   "source": [
    "### 2. Load Broombridge and simulate in Q#"
   ]
  },
  {
   "cell_type": "code",
   "execution_count": 10,
   "metadata": {},
   "outputs": [
    {
     "name": "stdout",
     "output_type": "stream",
     "text": [
      "Overwriting RPE.qs\n"
     ]
    }
   ],
   "source": [
    "%%writefile RPE.qs\n",
    "namespace Microsoft.Quantum.Chemistry.RPE {\n",
    "    open Microsoft.Quantum.Core;\n",
    "    open Microsoft.Quantum.Intrinsic;\n",
    "    open Microsoft.Quantum.Canon;\n",
    "    open Microsoft.Quantum.Chemistry;\n",
    "    open Microsoft.Quantum.Chemistry.JordanWigner;  \n",
    "    open Microsoft.Quantum.Simulation;\n",
    "    open Microsoft.Quantum.Characterization;\n",
    "    open Microsoft.Quantum.Convert;\n",
    "    open Microsoft.Quantum.Math;\n",
    "\n",
    "    operation GetEnergyRPE (\n",
    "        JWEncodedData: JordanWignerEncodingData,\n",
    "        nBitsPrecision : Int, \n",
    "        trotterStepSize : Double, \n",
    "        trotterOrder : Int\n",
    "    ) : (Double, Double) {\n",
    "\n",
    "        let (nSpinOrbitals, fermionTermData, inputState, energyOffset) = JWEncodedData!;\n",
    "        let (nQubits, (rescaleFactor, oracle)) = TrotterStepOracle(JWEncodedData, trotterStepSize, trotterOrder);\n",
    "        let statePrep = PrepareTrialState(inputState, _);\n",
    "        let phaseEstAlgorithm = RobustPhaseEstimation(nBitsPrecision, _, _);\n",
    "        let estPhase = EstimateEnergy(nQubits, statePrep, oracle, phaseEstAlgorithm);\n",
    "        let estEnergy = estPhase * rescaleFactor + energyOffset;\n",
    "\n",
    "        return (estPhase, estEnergy);\n",
    "    }\n",
    "}\n"
   ]
  },
  {
   "cell_type": "code",
   "execution_count": 11,
   "metadata": {},
   "outputs": [
    {
     "name": "stdout",
     "output_type": "stream",
     "text": [
      "Overwriting VQE.qs\n"
     ]
    }
   ],
   "source": [
    "%%writefile VQE.qs\n",
    "namespace Microsoft.Quantum.Chemistry.VQE {\n",
    "    open Microsoft.Quantum.Core;\n",
    "    open Microsoft.Quantum.Chemistry;\n",
    "    open Microsoft.Quantum.Chemistry.JordanWigner;\n",
    "    open Microsoft.Quantum.Chemistry.JordanWigner.VQE;\n",
    "    open Microsoft.Quantum.Intrinsic;\n",
    "\n",
    "    operation GetEnergyVQE(JWEncodedData: JordanWignerEncodingData, theta1: Double, theta2: Double, theta3: Double, nSamples: Int) : Double {\n",
    "        let (nSpinOrbitals, fermionTermData, inputState, energyOffset) = JWEncodedData!;\n",
    "        let (stateType, JWInputStates) = inputState;\n",
    "        let inputStateParam = (\n",
    "            stateType,\n",
    "            [\n",
    "                JordanWignerInputState((theta1, 0.0), [2, 0]),\n",
    "                JordanWignerInputState((theta2, 0.0), [3, 1]),\n",
    "                JordanWignerInputState((theta3, 0.0), [2, 3, 1, 0]),\n",
    "                JWInputStates[0]\n",
    "            ]\n",
    "        );\n",
    "        let JWEncodedDataParam = JordanWignerEncodingData(\n",
    "            nSpinOrbitals, fermionTermData, inputState, energyOffset\n",
    "        );\n",
    "        return EstimateEnergy(\n",
    "            JWEncodedDataParam, nSamples\n",
    "        );\n",
    "    }\n",
    "}"
   ]
  },
  {
   "cell_type": "markdown",
   "metadata": {},
   "source": [
    "Replace the version number (`0.xx.xxxxxxxxxx`) in the project file template below with the version of the QDK that you've installed. Run the following cell to get your version:"
   ]
  },
  {
   "cell_type": "code",
   "execution_count": 11,
   "metadata": {},
   "outputs": [
    {
     "name": "stdout",
     "output_type": "stream",
     "text": [
      "0.18.2108160310\n"
     ]
    }
   ],
   "source": [
    "from azure.quantum import __version__\n",
    "print(\"\".join(__version__.rsplit(\".\", 1)))"
   ]
  },
  {
   "cell_type": "code",
   "execution_count": 12,
   "metadata": {},
   "outputs": [
    {
     "name": "stdout",
     "output_type": "stream",
     "text": [
      "Overwriting TrotterizationExample.csproj\n"
     ]
    }
   ],
   "source": [
    "%%writefile TrotterizationExample.csproj\n",
    "<Project Sdk=\"Microsoft.Quantum.Sdk/0.xx.xxxxxxxxxx\">\n",
    "    <PropertyGroup>\n",
    "        <OutputType>Exe</OutputType>\n",
    "        <TargetFramework>net6.0</TargetFramework>\n",
    "        <IQSharpLoadAutomatically>true</IQSharpLoadAutomatically>\n",
    "    </PropertyGroup>\n",
    "    <ItemGroup>\n",
    "        <PackageReference Include=\"Microsoft.Quantum.Chemistry\" Version=\"0.xx.xxxxxxxxxx\" />\n",
    "  </ItemGroup>\n",
    "</Project>"
   ]
  },
  {
   "cell_type": "code",
   "execution_count": 13,
   "metadata": {},
   "outputs": [],
   "source": [
    "import qsharp"
   ]
  },
  {
   "cell_type": "code",
   "execution_count": 14,
   "metadata": {
    "scrolled": true
   },
   "outputs": [
    {
     "data": {
      "application/json": {
       "Description": "Adding package microsoft.quantum.chemistry.jupyter",
       "IsCompleted": false,
       "LastUpdated": "2021-03-15T14:19:12.3712069-07:00",
       "Subtask": null
      },
      "text/plain": [
       "Adding package microsoft.quantum.chemistry.jupyter."
      ]
     },
     "metadata": {},
     "output_type": "display_data"
    }
   ],
   "source": [
    "from qdk.chemistry.broombridge import load_and_encode"
   ]
  },
  {
   "cell_type": "code",
   "execution_count": 15,
   "metadata": {
    "scrolled": true
   },
   "outputs": [
    {
     "data": {
      "application/json": {
       "Description": "Reloading workspace",
       "IsCompleted": false,
       "LastUpdated": "2021-03-15T14:20:13.1243509-07:00",
       "Subtask": null
      },
      "text/plain": [
       "Reloading workspace."
      ]
     },
     "metadata": {},
     "output_type": "display_data"
    }
   ],
   "source": [
    "qsharp.reload()\n",
    "\n",
    "from Microsoft.Quantum.Chemistry.RPE import GetEnergyRPE\n",
    "from Microsoft.Quantum.Chemistry.VQE import GetEnergyVQE"
   ]
  },
  {
   "cell_type": "markdown",
   "metadata": {},
   "source": [
    "### Caffeine"
   ]
  },
  {
   "cell_type": "code",
   "execution_count": 16,
   "metadata": {
    "scrolled": true
   },
   "outputs": [],
   "source": [
    "encoded_data_caffeine = load_and_encode(\"data/broombridge/caffeine.yaml\")"
   ]
  },
  {
   "cell_type": "markdown",
   "metadata": {},
   "source": [
    "#### Robust Phase Estimation\n",
    "\n",
    "Estimate resources for running RPE algorithm"
   ]
  },
  {
   "cell_type": "code",
   "execution_count": 17,
   "metadata": {},
   "outputs": [
    {
     "name": "stdout",
     "output_type": "stream",
     "text": [
      "CPU times: user 21.2 ms, sys: 59.6 ms, total: 80.8 ms\n",
      "Wall time: 2min 45s\n"
     ]
    },
    {
     "data": {
      "text/plain": [
       "{'CNOT': 42913920,\n",
       " 'QubitClifford': 24522844,\n",
       " 'R': 9196140,\n",
       " 'Measure': 609,\n",
       " 'T': 0,\n",
       " 'Depth': 0,\n",
       " 'Width': 9,\n",
       " 'QubitCount': 9,\n",
       " 'BorrowedWidth': 0}"
      ]
     },
     "execution_count": 17,
     "metadata": {},
     "output_type": "execute_result"
    }
   ],
   "source": [
    "%%time\n",
    "GetEnergyRPE.estimate_resources(\n",
    "    JWEncodedData=encoded_data_caffeine, \n",
    "    nBitsPrecision=10,\n",
    "    trotterStepSize=0.2,\n",
    "    trotterOrder=1)"
   ]
  },
  {
   "cell_type": "markdown",
   "metadata": {},
   "source": [
    "#### Variational Quantum Eigensolver\n",
    "\n",
    "Estimate VQE resources for a single sample/iteration using the following ground state estimation (trial state or ansatz):\n",
    "\n",
    "[\n",
    "\n",
    "    JordanWignerInputState((theta1, 0.0), [2, 0]), // singly-excited state\n",
    "    JordanWignerInputState((theta2, 0.0), [3, 1]), // singly-excited state\n",
    "    JordanWignerInputState((theta3, 0.0), [2, 3, 1, 0]), // doubly-excited state\n",
    "    JWInputStates[0] // Hartree-Fock state from Broombridge file\n",
    "\n",
    "]"
   ]
  },
  {
   "cell_type": "code",
   "execution_count": 18,
   "metadata": {},
   "outputs": [
    {
     "name": "stdout",
     "output_type": "stream",
     "text": [
      "CPU times: user 0 ns, sys: 4.26 ms, total: 4.26 ms\n",
      "Wall time: 67.1 ms\n"
     ]
    },
    {
     "data": {
      "text/plain": [
       "{'CNOT': 0,\n",
       " 'QubitClifford': 1440,\n",
       " 'R': 0,\n",
       " 'Measure': 3240,\n",
       " 'T': 0,\n",
       " 'Depth': 0,\n",
       " 'Width': 8,\n",
       " 'QubitCount': 8,\n",
       " 'BorrowedWidth': 0}"
      ]
     },
     "execution_count": 18,
     "metadata": {},
     "output_type": "execute_result"
    }
   ],
   "source": [
    "%%time\n",
    "GetEnergyVQE.estimate_resources(\n",
    "    JWEncodedData=encoded_data_caffeine, \n",
    "    theta1=0.001,\n",
    "    theta2=-0.001,\n",
    "    theta3=0.001,\n",
    "    nSamples=1\n",
    ")"
   ]
  },
  {
   "cell_type": "markdown",
   "metadata": {},
   "source": [
    "#### Run RPE algorithm\n",
    "\n",
    "Compare to FCI energy = -627.63095945558848"
   ]
  },
  {
   "cell_type": "code",
   "execution_count": 19,
   "metadata": {},
   "outputs": [
    {
     "name": "stdout",
     "output_type": "stream",
     "text": [
      "CPU times: user 0 ns, sys: 21.8 ms, total: 21.8 ms\n",
      "Wall time: 38 s\n"
     ]
    },
    {
     "data": {
      "text/plain": [
       "(-0.3383813350711708, -627.6309264967134)"
      ]
     },
     "execution_count": 19,
     "metadata": {},
     "output_type": "execute_result"
    }
   ],
   "source": [
    "%%time\n",
    "GetEnergyRPE.simulate(\n",
    "    JWEncodedData=encoded_data_caffeine, \n",
    "    nBitsPrecision=10,\n",
    "    trotterStepSize=0.2, \n",
    "    trotterOrder=1)"
   ]
  },
  {
   "cell_type": "markdown",
   "metadata": {},
   "source": [
    "#### Run VQE\n",
    "\n",
    "Single iteration for $\\theta_1$=0.001, $\\theta_2$=-0.001, $\\theta_3$=0.001, 10 million samples"
   ]
  },
  {
   "cell_type": "code",
   "execution_count": 20,
   "metadata": {},
   "outputs": [
    {
     "name": "stdout",
     "output_type": "stream",
     "text": [
      "CPU times: user 4.5 ms, sys: 0 ns, total: 4.5 ms\n",
      "Wall time: 71.6 ms\n"
     ]
    },
    {
     "data": {
      "text/plain": [
       "-627.6287608341892"
      ]
     },
     "execution_count": 20,
     "metadata": {},
     "output_type": "execute_result"
    }
   ],
   "source": [
    "%%time\n",
    "GetEnergyVQE.simulate(\n",
    "    JWEncodedData=encoded_data_caffeine, \n",
    "    theta1=0.001,\n",
    "    theta2=-0.001,\n",
    "    theta3=0.001,\n",
    "    nSamples=int(10e6)\n",
    ")"
   ]
  },
  {
   "cell_type": "markdown",
   "metadata": {},
   "source": [
    "Optimize $\\theta_1$, $\\theta_2$ and $\\theta_3$ to minimize VQE energy using scipy.optimize"
   ]
  },
  {
   "cell_type": "code",
   "execution_count": 21,
   "metadata": {},
   "outputs": [],
   "source": [
    "from scipy.optimize import minimize\n",
    "\n",
    "def run_program(var_params, num_samples) -> float:\n",
    "    # run parameterized quantum program for VQE algorithm\n",
    "    theta1, theta2, theta3 = var_params\n",
    "    energy = GetEnergyVQE.simulate(\n",
    "        JWEncodedData=encoded_data_caffeine,\n",
    "        theta1=theta1,\n",
    "        theta2=theta2,\n",
    "        theta3=theta3,\n",
    "        nSamples=num_samples\n",
    "    )\n",
    "    print(var_params, energy)\n",
    "    return energy\n",
    " \n",
    "def VQE(initial_var_params, num_samples):\n",
    "    \"\"\" Run VQE Optimization to find the optimal energy and the associated variational parameters \"\"\"\n",
    " \n",
    "    opt_result = minimize(run_program,\n",
    "                          initial_var_params,\n",
    "                          args=(num_samples,),\n",
    "                          method=\"COBYLA\",\n",
    "                          tol=0.000001,\n",
    "                          options={'disp': True, 'maxiter': 200,'rhobeg' : 0.05})\n",
    " \n",
    "    if opt_result.success:\n",
    "        print(opt_result.message)\n",
    "        print(f\"Result: {opt_result.fun} Ha\")\n",
    "        print(f\"Number of evaluations: {opt_result.nfev}\")\n",
    "        print(f\"Optimal parameters found: {opt_result.x}\")\n",
    "    \n",
    "    return opt_result"
   ]
  },
  {
   "cell_type": "code",
   "execution_count": 22,
   "metadata": {},
   "outputs": [
    {
     "name": "stdout",
     "output_type": "stream",
     "text": [
      "[ 0.001 -0.001  0.001] -627.6287366041155\n",
      "[ 0.051 -0.001  0.001] -627.6287674001005\n",
      "[0.051 0.049 0.001] -627.6287571923679\n",
      "[ 0.051 -0.001  0.051] -627.6287820737161\n",
      "[ 0.09424348 -0.01533362  0.07160458] -627.6287561556451\n",
      "[ 0.02814312 -0.00678337  0.05931359] -627.6287255457386\n",
      "[0.05592703 0.02347701 0.05226499] -627.6287398870712\n",
      "[ 0.0609837  -0.00846511  0.05192083] -627.6287817015592\n",
      "[ 0.05068108 -0.00287585  0.03864567] -627.6287475827446\n",
      "[ 0.04850731 -0.0036223   0.05609633] -627.6287338926866\n",
      "[0.05470675 0.00402066 0.05133988] -627.6287194848973\n",
      "[ 0.05021951 -0.00236823  0.04830104] -627.6287613126766\n",
      "[ 4.97496783e-02 -6.94289417e-05  5.08898215e-02] -627.6287687823976\n",
      "[ 0.05093269 -0.00309969  0.05331352] -627.6287646753802\n",
      "[ 0.05242575 -0.00036271  0.05094991] -627.6287677323835\n",
      "[ 0.05095198 -0.00147869  0.05038445] -627.6287744179167\n",
      "[ 0.05092973 -0.00140727  0.05166298] -627.6287766907321\n",
      "[ 0.05133098 -0.00079398  0.05102432] -627.6287551189222\n",
      "[ 0.05062407 -0.00089402  0.05099431] -627.6287775015026\n",
      "[ 0.05097347 -0.00114345  0.05112986] -627.6287446320719\n",
      "[ 0.05099774 -0.00104018  0.05080888] -627.6287811300325\n",
      "[ 0.05093449 -0.00092873  0.05098713] -627.628786911756\n",
      "[ 0.05099258 -0.00085167  0.05097216] -627.6287393687098\n",
      "[ 0.05093488 -0.0009197   0.05103512] -627.6287591727744\n",
      "[ 0.05088155 -0.00098023  0.05092324] -627.6287631335873\n",
      "[ 0.05091344 -0.0009367   0.05103046] -627.6287261704305\n",
      "[ 0.05095261 -0.00094509  0.0509869 ] -627.6287484732629\n",
      "[ 0.05092703 -0.00093692  0.050982  ] -627.6287560891884\n",
      "[ 0.05094041 -0.00090522  0.05098424] -627.6287448314417\n",
      "[ 0.05093178 -0.00092888  0.05099903] -627.6287452168899\n",
      "[ 0.05094002 -0.00093121  0.05098641] -627.6287466656437\n",
      "[ 0.05093254 -0.00092343  0.05098482] -627.6287486061761\n",
      "[ 0.05093352 -0.00092903  0.05099001] -627.628729612882\n",
      "[ 0.05093297 -0.00093056  0.05098522] -627.6287444592848\n",
      "[ 0.05093473 -0.00092735  0.05098653] -627.6287715735746\n",
      "[ 0.05093591 -0.00092927  0.05098707] -627.6287418276037\n",
      "[ 0.05093378 -0.00092907  0.05098651] -627.628808483566\n",
      "[ 0.0509328  -0.00092917  0.05098665] -627.6287654462767\n",
      "[ 0.05093427 -0.00092959  0.05098581] -627.6287829908172\n",
      "Optimization terminated successfully.\n",
      "Result: -627.6287829908172 Ha\n",
      "Number of evaluations: 39\n",
      "Optimal parameters found: [ 0.05093427 -0.00092959  0.05098581]\n",
      "CPU times: user 128 ms, sys: 9.62 ms, total: 138 ms\n",
      "Wall time: 2.25 s\n"
     ]
    },
    {
     "data": {
      "text/plain": [
       "     fun: -627.6287829908172\n",
       "   maxcv: 0.0\n",
       " message: 'Optimization terminated successfully.'\n",
       "    nfev: 39\n",
       "  status: 1\n",
       " success: True\n",
       "       x: array([ 0.05093427, -0.00092959,  0.05098581])"
      ]
     },
     "execution_count": 22,
     "metadata": {},
     "output_type": "execute_result"
    }
   ],
   "source": [
    "%%time\n",
    "VQE([0.001, -0.001, 0.001], int(10e6))"
   ]
  },
  {
   "cell_type": "markdown",
   "metadata": {},
   "source": [
    "### Pyridine\n",
    "\n",
    "Compute resources needed for Pyridine molecule"
   ]
  },
  {
   "cell_type": "code",
   "execution_count": 23,
   "metadata": {},
   "outputs": [],
   "source": [
    "encoded_data_pyridine = load_and_encode(\"data/broombridge/pyridine.yaml\")"
   ]
  },
  {
   "cell_type": "code",
   "execution_count": 25,
   "metadata": {
    "scrolled": false
   },
   "outputs": [
    {
     "name": "stdout",
     "output_type": "stream",
     "text": [
      "CPU times: user 2.52 ms, sys: 1.3 ms, total: 3.82 ms\n",
      "Wall time: 1.28 s\n"
     ]
    },
    {
     "data": {
      "text/plain": [
       "{'CNOT': 211616,\n",
       " 'QubitClifford': 124794,\n",
       " 'R': 81068,\n",
       " 'Measure': 317,\n",
       " 'T': 0,\n",
       " 'Depth': 0,\n",
       " 'Width': 5,\n",
       " 'QubitCount': 5,\n",
       " 'BorrowedWidth': 0}"
      ]
     },
     "execution_count": 25,
     "metadata": {},
     "output_type": "execute_result"
    }
   ],
   "source": [
    "%%time\n",
    "GetEnergyRPE.estimate_resources(\n",
    "    JWEncodedData=encoded_data_pyridine, \n",
    "    nBitsPrecision=7,\n",
    "    trotterStepSize=0.4, \n",
    "    trotterOrder=1)"
   ]
  },
  {
   "cell_type": "code",
   "execution_count": null,
   "metadata": {},
   "outputs": [],
   "source": []
  }
 ],
 "metadata": {
  "kernelspec": {
   "display_name": "Python 3 (ipykernel)",
   "language": "python",
   "name": "python3"
  },
  "language_info": {
   "codemirror_mode": {
    "name": "ipython",
    "version": 3
   },
   "file_extension": ".py",
   "mimetype": "text/x-python",
   "name": "python",
   "nbconvert_exporter": "python",
   "pygments_lexer": "ipython3",
   "version": "3.7.10"
  }
 },
 "nbformat": 4,
 "nbformat_minor": 4
}
