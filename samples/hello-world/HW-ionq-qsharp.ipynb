{
  "cells": [
    {
      "cell_type": "markdown",
      "source": [
        "# 👋🌍 Hello, world: Submit a Q# job to IonQ\n",
        "\n",
        "In this notebook, we'll review the basics of Azure Quantum by submitting a simple *job*, or quantum program, to [IonQ](https://ionq.com/). We will use [Q#](https://docs.microsoft.com/azure/quantum/user-guide/) to express the quantum job."
      ],
      "metadata": {},
      "id": "758dbf81-19b1-4f69-a412-e1cf2b2ce27b"
    },
    {
      "cell_type": "markdown",
      "source": [
        "## Submit a simple job to IonQ using Azure Quantum\n",
        "Azure Quantum provides several ways to express quantum programs. In this example we are using Q#, but note that Qiskit and Cirq are also supported. All code in this example will be written in Python and Q#.\n",
        "\n",
        "Let's begin. When you see a code block, hover over it and click the triangle play-button to execute it. To avoid any compilation issues, this should be done in order from top to bottom."
      ],
      "metadata": {
        "nteract": {
          "transient": {
            "deleting": false
          }
        }
      },
      "id": "141cdc05-85dd-4518-ab6c-7e58117476c9"
    },
    {
      "cell_type": "markdown",
      "source": [
        "### 1. Connect to the Azure Quantum workspace\n",
        "\n",
        "To connect to the Azure Quantum service, initialize the `Workspace` as seen below."
      ],
      "metadata": {
        "nteract": {
          "transient": {
            "deleting": false
          }
        }
      },
      "id": "738eb454-57dc-4306-9561-4f022569cdc9"
    },
    {
      "cell_type": "code",
      "source": [
        "from azure.quantum import Workspace\n",
        "\n",
        "workspace = Workspace (\n",
        "   resource_id = \"\",\n",
        "   location = \"\"\n",
        ")"
      ],
      "outputs": [],
      "execution_count": null,
      "metadata": {},
      "id": "193741c1-72ef-43f1-a6ef-5b3840fe5a1f"
    },
    {
      "cell_type": "markdown",
      "source": [
        "We can use the resulting object to see which _targets_ are available for submission."
      ],
      "metadata": {
        "nteract": {
          "transient": {
            "deleting": false
          }
        }
      },
      "id": "92aaa651-2bfb-4989-acfb-480997e2e280"
    },
    {
      "cell_type": "code",
      "source": [
        "print(\"This workspace's targets:\")\n",
        "for target in workspace.get_targets():\n",
        "    print(\"-\", target.name)"
      ],
      "outputs": [],
      "execution_count": null,
      "metadata": {
        "jupyter": {
          "outputs_hidden": false,
          "source_hidden": false
        },
        "nteract": {
          "transient": {
            "deleting": false
          }
        }
      },
      "id": "a3c691dd-5964-4699-873a-8f1b10b7650d"
    },
    {
      "cell_type": "markdown",
      "source": [
        "### ❕ Do you see `ionq.simulator` in your list of targets? If so, you're ready to keep going.\n",
        "\n",
        "Don't see it? You may need to add IonQ to your workspace to run this sample. Navigate to the **Providers** page in the portal and click **+Add** to add the IonQ provider. Don't worry, there's a free credits plan available."
      ],
      "metadata": {
        "nteract": {
          "transient": {
            "deleting": false
          }
        }
      },
      "id": "35eb62e5-de39-4a20-9d07-38e24bc05ba4"
    },
    {
      "cell_type": "markdown",
      "source": [
        "## IonQ: The quantum provider\n",
        "Azure Quantum partners with third-party companies to deliver solutions to quantum jobs. These company offerings are called *providers*. Each provider can offer multiple *targets* with different capabilities. See the table below for IonQ's targets.\n",
        "\n",
        "| Target name | Target ID | Number of qubits | Description |\n",
        "| --- | --- | --- | --- |\n",
        "| Quantum simulator | `ionq.simulator` | 29 qubits | IonQ's cloud-based idealized simulator. Free of cost. |\n",
        "| Aria 1 | `ionq.qpu.aria-1` | 23 qubits | IonQ's Aria 1 trapped-ion quantum computer. This is real quantum hardware, not a simulation. |\n",
        "| Quantum computer | `ionq.qpu` | 11 qubits | IonQ's trapped-ion quantum computer. This is real quantum hardware, not a simulation. |\n",
        "\n",
        "For this example, we will use `ionq.simulator`. To learn more about IonQ's targets, check out our [documentation](https://docs.microsoft.com/azure/quantum/provider-ionq)."
      ],
      "metadata": {
        "nteract": {
          "transient": {
            "deleting": false
          }
        }
      },
      "id": "b9d29721-e717-480e-8f33-308682bacdd1"
    },
    {
      "cell_type": "markdown",
      "source": [
        "### 2. Build the quantum program\n",
        "\n",
        "Let's create a simple Q# program to run.\n",
        "\n",
        "First, let's initialize the Q# environment and set the target profile to Base Profile. Today, Azure Quantum targets only support the Base Profile, a subset of all Q# commands."
      ],
      "metadata": {},
      "id": "48e00cf5-3ed8-4625-9ca8-09b759c9718b"
    },
    {
      "cell_type": "code",
      "source": [
        "import qsharp\n",
        "qsharp.init(target_profile=qsharp.TargetProfile.Base)"
      ],
      "outputs": [],
      "execution_count": null,
      "metadata": {
        "jupyter": {
          "source_hidden": false,
          "outputs_hidden": false
        },
        "nteract": {
          "transient": {
            "deleting": false
          }
        }
      },
      "id": "aeb4cd1a-e0f6-4282-924f-fece9518e0f7"
    },
    {
      "cell_type": "code",
      "source": [
        "%%qsharp\n",
        "open Microsoft.Quantum.Measurement;\n",
        "open Microsoft.Quantum.Arrays;\n",
        "open Microsoft.Quantum.Convert;\n",
        "\n",
        "operation GenerateRandomBit() : Result {\n",
        "    use target = Qubit();\n",
        "\n",
        "    // Apply an H-gate and measure.\n",
        "    H(target);\n",
        "    return M(target);\n",
        "}"
      ],
      "outputs": [],
      "execution_count": null,
      "metadata": {
        "microsoft": {
          "language": "qsharp"
        }
      },
      "id": "d9574e88-1fcb-489f-b968-1e1156f9236a"
    },
    {
      "cell_type": "code",
      "source": [
        "# Compile the qsharp operation\n",
        "operation = qsharp.compile(\"GenerateRandomBit()\")"
      ],
      "outputs": [],
      "execution_count": null,
      "metadata": {
        "jupyter": {
          "source_hidden": false,
          "outputs_hidden": false
        },
        "nteract": {
          "transient": {
            "deleting": false
          }
        }
      },
      "id": "5c86117f-24f2-4386-a8b2-8cb6e1772885"
    },
    {
      "cell_type": "markdown",
      "source": [
        "The program you built is a simple quantum random bit generator. With IonQ's idealized simulator, we will be able to calculate the probability of measuring a `1` or `0`."
      ],
      "metadata": {
        "nteract": {
          "transient": {
            "deleting": false
          }
        }
      },
      "id": "e3e9e130-3ed2-4c71-9d95-d242bb74d8a4"
    },
    {
      "cell_type": "markdown",
      "source": [
        "### 3. Submit the quantum program to IonQ\n",
        "\n",
        "We will use the `target.submit` function to run the quantum program above on IonQ's `ionq.simulator` target. This may take a minute or so ⏳. Your job will be packaged and sent to IonQ, where it will wait its turn to be run."
      ],
      "metadata": {},
      "id": "da5e2277-69e0-4009-9366-3cd0d496d97a"
    },
    {
      "cell_type": "code",
      "source": [
        "# Set the target to ionq.simulator\n",
        "target = workspace.get_targets(\"ionq.simulator\")\n",
        "\n",
        "# Execute the job. We'll use 100 shots (simulated runs).\n",
        "job = target.submit(operation, \"Generate one random bit\", input_params={ \"shots\": 100 })\n",
        "print(\"Job Id:\" + job.id)\n",
        "\n",
        "result = job.get_results()"
      ],
      "outputs": [],
      "execution_count": null,
      "metadata": {},
      "id": "45c1a178-c9cb-4b87-bb87-f0efe74bd2c5"
    },
    {
      "cell_type": "markdown",
      "source": [
        "The job ID can be used to retrieve the results later using the `workspace.get_job` function or by viewing it under the **Job management** section of the portal."
      ],
      "metadata": {
        "nteract": {
          "transient": {
            "deleting": false
          }
        }
      },
      "id": "7478bf97-4a04-4d67-87c9-54dbe5488e5c"
    },
    {
      "cell_type": "markdown",
      "source": [
        "### 4. Visualize job results \n",
        "You can also view a histogram of the results using [`pyplot`](https://matplotlib.org/stable/api/_as_gen/matplotlib.pyplot.html):"
      ],
      "metadata": {
        "nteract": {
          "transient": {
            "deleting": false
          }
        }
      },
      "id": "60dcad6f-0584-48b6-b4d5-0444667d61f0"
    },
    {
      "cell_type": "code",
      "source": [
        "from matplotlib import pyplot\n",
        "\n",
        "pyplot.bar(result.keys(), result.values())\n",
        "pyplot.title(\"Result\")\n",
        "pyplot.xlabel(\"Measurement\")\n",
        "pyplot.ylabel(\"Probability\")\n",
        "\n",
        "pyplot.show()\n"
      ],
      "outputs": [],
      "execution_count": null,
      "metadata": {
        "jupyter": {
          "outputs_hidden": false,
          "source_hidden": false
        },
        "nteract": {
          "transient": {
            "deleting": false
          }
        }
      },
      "id": "2df93272-d827-4432-ab49-baca1d97a267"
    },
    {
      "cell_type": "markdown",
      "source": [
        "**See the histogram above? Congratulations, you've submitted a job with Azure Quantum! 👏**\n"
      ],
      "metadata": {
        "nteract": {
          "transient": {
            "deleting": false
          }
        }
      },
      "id": "362b53de-b068-47f3-a2c9-e251c61fa1a7"
    },
    {
      "cell_type": "markdown",
      "source": [
        "### 5. Next steps\n",
        "Next, you can try running a program on IonQ's hardware target - just replace `ionq.simulator` with `ionq.qpu`. Or try another sample by navigating back to the sample gallery. The same \"hello world\" sample can be run with different quantum providers by choosing another option in the gallery card drop-down menu. Don't worry - your work here is automatically saved.\n",
        "\n",
        "To learn more about submitting jobs to Azure Quantum using Q#, refer to [this documentation](https://docs.microsoft.com/azure/quantum/how-to-submit-jobs?pivots=ide-python).\n",
        "\n",
        "To learn more about job pricing, review the [Azure Quantum documentation on job costs](https://docs.microsoft.com/azure/quantum/azure-quantum-job-costs)."
      ],
      "metadata": {
        "nteract": {
          "transient": {
            "deleting": false
          }
        }
      },
      "id": "91a761ed-f60f-4c27-9b1e-f0b25aa9cf5f"
    }
  ],
  "metadata": {
    "kernel_info": {
      "name": "python3"
    },
    "kernelspec": {
      "name": "python3",
      "language": "python",
      "display_name": "Python 3 (ipykernel)"
    },
    "language_info": {
      "name": "python",
      "version": "3.9.18",
      "mimetype": "text/x-python",
      "codemirror_mode": {
        "name": "ipython",
        "version": 3
      },
      "pygments_lexer": "ipython3",
      "nbconvert_exporter": "python",
      "file_extension": ".py"
    },
    "nteract": {
      "version": "nteract-front-end@1.0.0"
    },
    "microsoft": {
      "host": {
        "AzureQuantum": {
          "sourceType": "SampleGallery",
          "sourceLink": "https://raw.githubusercontent.com/microsoft/Quantum/2faada09f683b1112a3730caa561faff7b35b5df/samples/azure-quantum/hello-world/HW-ionq-qsharp.ipynb"
        }
      }
    }
  },
  "nbformat": 4,
  "nbformat_minor": 5
}