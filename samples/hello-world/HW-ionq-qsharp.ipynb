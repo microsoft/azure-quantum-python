{
  "cells": [
    {
      "cell_type": "markdown",
      "id": "758dbf81-19b1-4f69-a412-e1cf2b2ce27b",
      "metadata": {},
      "source": [
        "# 👋🌍 Hello, world: Submit a Q# job to IonQ\n",
        "\n",
        "In this notebook, we'll review the basics of Azure Quantum by submitting a simple *job*, or quantum program, to [IonQ](https://ionq.com/). We will use [Q#](https://learn.microsoft.com/azure/quantum/user-guide/) to express the quantum job."
      ]
    },
    {
      "cell_type": "markdown",
      "id": "141cdc05-85dd-4518-ab6c-7e58117476c9",
      "metadata": {
        "nteract": {
          "transient": {
            "deleting": false
          }
        }
      },
      "source": [
        "## Submit a simple job to IonQ using Azure Quantum\n",
        "Azure Quantum provides several ways to express quantum programs. In this example we are using Q#, but note that Qiskit and Cirq are also supported. All code in this example will be written in Python and Q#.\n",
        "\n",
        "Let's begin. When you see a code block, hover over it and click the triangle play-button to execute it. To avoid any compilation issues, this should be done in order from top to bottom."
      ]
    },
    {
      "cell_type": "markdown",
      "id": "738eb454-57dc-4306-9561-4f022569cdc9",
      "metadata": {
        "nteract": {
          "transient": {
            "deleting": false
          }
        }
      },
      "source": [
        "### 1. Connect to the Azure Quantum workspace\n",
        "\n",
        "To connect to the Azure Quantum service, initialize the `Workspace` as seen below."
      ]
    },
    {
      "cell_type": "code",
      "execution_count": null,
      "id": "193741c1-72ef-43f1-a6ef-5b3840fe5a1f",
      "metadata": {},
      "outputs": [],
      "source": [
        "from azure.quantum import Workspace\n",
        "\n",
        "workspace = Workspace (\n",
        "   resource_id = \"\",\n",
        "   location = \"\"\n",
        ")"
      ]
    },
    {
      "cell_type": "markdown",
      "id": "92aaa651-2bfb-4989-acfb-480997e2e280",
      "metadata": {
        "nteract": {
          "transient": {
            "deleting": false
          }
        }
      },
      "source": [
        "We can use the resulting object to see which _targets_ are available for submission."
      ]
    },
    {
      "cell_type": "code",
      "execution_count": null,
      "id": "a3c691dd-5964-4699-873a-8f1b10b7650d",
      "metadata": {
        "jupyter": {
          "outputs_hidden": false,
          "source_hidden": false
        },
        "nteract": {
          "transient": {
            "deleting": false
          }
        }
      },
      "outputs": [],
      "source": [
        "print(\"This workspace's targets:\")\n",
        "for target in workspace.get_targets():\n",
        "    print(\"-\", target.name)"
      ]
    },
    {
      "cell_type": "markdown",
      "id": "35eb62e5-de39-4a20-9d07-38e24bc05ba4",
      "metadata": {
        "nteract": {
          "transient": {
            "deleting": false
          }
        }
      },
      "source": [
        "### ❕ Do you see `ionq.simulator` in your list of targets? If so, you're ready to keep going.\n",
        "\n",
        "Don't see it? You may need to add IonQ to your workspace to run this sample. Navigate to the **Providers** page in the portal and click **+Add** to add the IonQ provider. Don't worry, there's a free credits plan available."
      ]
    },
    {
      "cell_type": "markdown",
      "id": "b9d29721-e717-480e-8f33-308682bacdd1",
      "metadata": {
        "nteract": {
          "transient": {
            "deleting": false
          }
        }
      },
      "source": [
        "## IonQ: The quantum provider\n",
        "Azure Quantum partners with third-party companies to deliver solutions to quantum jobs. These company offerings are called *providers*. Each provider can offer multiple *targets* with different capabilities. See the table below for IonQ's targets.\n",
        "\n",
        "| Target name | Target ID | Number of qubits | Description |\n",
        "| --- | --- | --- | --- |\n",
        "| Quantum simulator | `ionq.simulator` | 29 qubits | IonQ's cloud-based idealized simulator. Free of cost. |\n",
        "| Aria 1 | `ionq.qpu.aria-1` | 23 qubits | IonQ's Aria 1 trapped-ion quantum computer. This is real quantum hardware, not a simulation. |\n",
        "\n",
        "For this example, we will use `ionq.simulator`. To learn more about IonQ's targets, check out our [documentation](https://learn.microsoft.com/azure/quantum/provider-ionq)."
      ]
    },
    {
      "cell_type": "markdown",
      "id": "48e00cf5-3ed8-4625-9ca8-09b759c9718b",
      "metadata": {},
      "source": [
        "### 2. Build the quantum program\n",
        "\n",
        "Let's create a simple Q# program to run.\n",
        "\n",
        "First, let's initialize the Q# environment and set the target profile to Base Profile. Today, Azure Quantum targets only support the Base Profile, a subset of all Q# commands."
      ]
    },
    {
      "cell_type": "code",
      "execution_count": null,
      "id": "aeb4cd1a-e0f6-4282-924f-fece9518e0f7",
      "metadata": {
        "jupyter": {
          "outputs_hidden": false,
          "source_hidden": false
        },
        "nteract": {
          "transient": {
            "deleting": false
          }
        }
      },
      "outputs": [],
      "source": [
        "import qsharp\n",
        "qsharp.init(target_profile=qsharp.TargetProfile.Base)"
      ]
    },
    {
      "cell_type": "code",
      "execution_count": null,
      "id": "d9574e88-1fcb-489f-b968-1e1156f9236a",
      "metadata": {
        "microsoft": {
          "language": "qsharp"
        }
      },
      "outputs": [],
      "source": [
        "%%qsharp\n",
        "open Microsoft.Quantum.Measurement;\n",
        "open Microsoft.Quantum.Arrays;\n",
        "open Microsoft.Quantum.Convert;\n",
        "\n",
        "operation GenerateRandomBit() : Result {\n",
        "    use target = Qubit();\n",
        "\n",
        "    // Apply an H-gate and measure.\n",
        "    H(target);\n",
        "    return M(target);\n",
        "}"
      ]
    },
    {
      "cell_type": "code",
      "execution_count": null,
      "id": "5c86117f-24f2-4386-a8b2-8cb6e1772885",
      "metadata": {
        "jupyter": {
          "outputs_hidden": false,
          "source_hidden": false
        },
        "nteract": {
          "transient": {
            "deleting": false
          }
        }
      },
      "outputs": [],
      "source": [
        "# Compile the qsharp operation\n",
        "operation = qsharp.compile(\"GenerateRandomBit()\")"
      ]
    },
    {
      "cell_type": "markdown",
      "id": "e3e9e130-3ed2-4c71-9d95-d242bb74d8a4",
      "metadata": {
        "nteract": {
          "transient": {
            "deleting": false
          }
        }
      },
      "source": [
        "The program you built is a simple quantum random bit generator. With IonQ's idealized simulator, we will be able to calculate the probability of measuring a `1` or `0`."
      ]
    },
    {
      "cell_type": "markdown",
      "id": "da5e2277-69e0-4009-9366-3cd0d496d97a",
      "metadata": {},
      "source": [
        "### 3. Submit the quantum program to IonQ\n",
        "\n",
        "We will use the `target.submit` function to run the quantum program above on IonQ's `ionq.simulator` target. This may take a minute or so ⏳. Your job will be packaged and sent to IonQ, where it will wait its turn to be run."
      ]
    },
    {
      "cell_type": "code",
      "execution_count": null,
      "id": "45c1a178-c9cb-4b87-bb87-f0efe74bd2c5",
      "metadata": {},
      "outputs": [],
      "source": [
        "# Set the target to ionq.simulator\n",
        "target = workspace.get_targets(\"ionq.simulator\")\n",
        "\n",
        "# Execute the job. We'll use 100 shots (simulated runs).\n",
        "job = target.submit(operation, \"Generate one random bit\", shots=100)\n",
        "print(\"Job Id:\" + job.id)\n",
        "\n",
        "result = job.get_results()"
      ]
    },
    {
      "cell_type": "markdown",
      "id": "7478bf97-4a04-4d67-87c9-54dbe5488e5c",
      "metadata": {
        "nteract": {
          "transient": {
            "deleting": false
          }
        }
      },
      "source": [
        "The job ID can be used to retrieve the results later using the [get_job method](https://learn.microsoft.com/python/azure-quantum/azure.quantum.workspace?#azure-quantum-workspace-get-job) or by viewing it under the **Job management** section of the portal."
      ]
    },
    {
      "cell_type": "markdown",
      "id": "60dcad6f-0584-48b6-b4d5-0444667d61f0",
      "metadata": {
        "nteract": {
          "transient": {
            "deleting": false
          }
        }
      },
      "source": [
        "### 4. Visualize job results \n",
        "You can also view a histogram of the results using [`pyplot`](https://matplotlib.org/stable/api/_as_gen/matplotlib.pyplot.html):"
      ]
    },
    {
      "cell_type": "code",
      "execution_count": null,
      "id": "2df93272-d827-4432-ab49-baca1d97a267",
      "metadata": {
        "jupyter": {
          "outputs_hidden": false,
          "source_hidden": false
        },
        "nteract": {
          "transient": {
            "deleting": false
          }
        }
      },
      "outputs": [],
      "source": [
        "from matplotlib import pyplot\n",
        "\n",
        "pyplot.bar(result.keys(), result.values())\n",
        "pyplot.title(\"Result\")\n",
        "pyplot.xlabel(\"Measurement\")\n",
        "pyplot.ylabel(\"Probability\")\n",
        "\n",
        "pyplot.show()\n"
      ]
    },
    {
      "cell_type": "markdown",
      "id": "362b53de-b068-47f3-a2c9-e251c61fa1a7",
      "metadata": {
        "nteract": {
          "transient": {
            "deleting": false
          }
        }
      },
      "source": [
        "**See the histogram above? Congratulations, you've submitted a job with Azure Quantum! 👏**\n"
      ]
    },
    {
      "cell_type": "markdown",
      "id": "91a761ed-f60f-4c27-9b1e-f0b25aa9cf5f",
      "metadata": {
        "nteract": {
          "transient": {
            "deleting": false
          }
        }
      },
      "source": [
        "### 5. Next steps\n",
        "Next, you can try running a program on IonQ's hardware target - just replace `ionq.simulator` with `ionq.qpu.aria-1`. Or try another sample by navigating back to the sample gallery. The same \"hello world\" sample can be run with different quantum providers by choosing another option in the gallery card drop-down menu. Don't worry - your work here is automatically saved.\n",
        "\n",
        "To learn more about submitting jobs to Azure Quantum using Q#, refer to [this documentation](https://learn.microsoft.com/azure/quantum/how-to-submit-jobs?pivots=ide-python).\n",
        "\n",
        "To learn more about job pricing, review the [Azure Quantum documentation on job costs](https://learn.microsoft.com/azure/quantum/azure-quantum-job-costs)."
      ]
    }
  ],
  "metadata": {
    "kernel_info": {
      "name": "python3"
    },
    "kernelspec": {
      "display_name": "Python 3 (ipykernel)",
      "language": "python",
      "name": "python3"
    },
    "language_info": {
      "codemirror_mode": {
        "name": "ipython",
        "version": 3
      },
      "file_extension": ".py",
      "mimetype": "text/x-python",
      "name": "python",
      "nbconvert_exporter": "python",
      "pygments_lexer": "ipython3",
      "version": "3.9.18"
    },
    "microsoft": {
      "host": {
        "AzureQuantum": {
          "sourceLink": "https://raw.githubusercontent.com/microsoft/Quantum/2faada09f683b1112a3730caa561faff7b35b5df/samples/azure-quantum/hello-world/HW-ionq-qsharp.ipynb",
          "sourceType": "SampleGallery"
        }
      }
    },
    "nteract": {
      "version": "nteract-front-end@1.0.0"
    }
  },
  "nbformat": 4,
  "nbformat_minor": 5
}
