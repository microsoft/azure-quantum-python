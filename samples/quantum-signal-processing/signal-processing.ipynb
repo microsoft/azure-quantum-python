{
  "cells": [
    {
      "cell_type": "markdown",
      "source": [
        "# A practical introduction into quantum signal processing (QSP)\n",
        "\n",
        "In this notebook we are going to implement and run the single-qubit quantum circuits used to illustrate quantum signal processing in [arXiv:2110.11327](https://arxiv.org/abs/2110.11327) and [arXiv:2105.02859](https://arxiv.org/abs/2105.02859).\n",
        "Quantum signal processing is a systematic framework to transform quantum systems with respect to almost arbitrary polynomial functions."
      ],
      "metadata": {}
    },
    {
      "cell_type": "markdown",
      "source": [
        "We first include some functions from Qiskit, NumPy, SymPy, as well as Matplotlib."
      ],
      "metadata": {}
    },
    {
      "cell_type": "code",
      "source": [
        "from qiskit import QuantumCircuit, transpile\n",
        "from qiskit.quantum_info import Operator\n",
        "\n",
        "import numpy as np\n",
        "import numpy.random as random\n",
        "\n",
        "import sympy as sp\n",
        "\n",
        "import matplotlib.pyplot as plt\n",
        "\n",
        "from math import acos\n",
        "\n",
        "# Printing configuration\n",
        "from sympy.interactive import printing\n",
        "printing.init_printing(use_latex=True)\n",
        "from IPython.display import display, Markdown"
      ],
      "outputs": [],
      "execution_count": null,
      "metadata": {}
    },
    {
      "cell_type": "markdown",
      "source": [
        "## 1. QSP polynomials\n",
        "\n",
        "To illustrate quantum signal processing, consider a sequence in which we alternate a *signal* rotation operator\n",
        "$$ W(x) = \\begin{pmatrix} x & \\mathrm{i}\\sqrt{1 - x^2} \\\\ \\mathrm{i}\\sqrt{1 - x^2} & x \\end{pmatrix} $$\n",
        "for a *fixed* value $x \\in [1, -1]$ and a *processing* rotation operator\n",
        "$$ S(\\phi) = e^{\\mathrm{i}\\phi Z} $$\n",
        "for variable real numbers $\\phi$.  These two matrices are unitary and can be implemented using $R_x(-2\\cos^{-1} x) = W(x)$ and $R_z(-2 \\phi) = S(\\phi)$ operations as follows."
      ],
      "metadata": {}
    },
    {
      "cell_type": "code",
      "source": [
        "class WGate(QuantumCircuit):\n",
        "    \"\"\"Defines the W(x) gate in terms of a Rx rotation\"\"\"\n",
        "    def __init__(self, x):\n",
        "        super().__init__(1)\n",
        "\n",
        "        super().rx(-2.0 * acos(x), 0)\n",
        "\n",
        "class SGate(QuantumCircuit):\n",
        "    \"\"\"Defines the S(ɸ) gate in terms of a Rz rotation\"\"\"\n",
        "    def __init__(self, phi):\n",
        "        super().__init__(1)\n",
        "\n",
        "        super().rz(-2.0 * phi, 0)"
      ],
      "outputs": [],
      "execution_count": null,
      "metadata": {}
    },
    {
      "cell_type": "markdown",
      "source": [
        "We also define two functions that compute the matrices explicitly as defined above.  We are using SymPy here, so we can later evaluate them symbolically to create various polynomials."
      ],
      "metadata": {}
    },
    {
      "cell_type": "code",
      "source": [
        "def expected_w(x):\n",
        "    \"\"\"Return W(x) as a SymPy matrix\"\"\"\n",
        "    return sp.Matrix([[x, 1j * sp.sqrt(1 - x**2)], [1j * sp.sqrt(1 - x**2), x]])\n",
        "\n",
        "def expected_s(phi):\n",
        "    \"\"\"Return S(x) as a SymPy matrix\"\"\"\n",
        "    return sp.diag([sp.exp(1j * phi), sp.exp(-1j * phi)], unpack=True)"
      ],
      "outputs": [],
      "execution_count": null,
      "metadata": {}
    },
    {
      "cell_type": "markdown",
      "source": [
        "Let's now test whether the `WGate` and the `SGate` do compute the expected matrices.  For this purpose, we create quantum circuits with a single gate and random values for $x$ and $\\phi$ and compare the unitary of the circuit with the expected unitary from the function."
      ],
      "metadata": {}
    },
    {
      "cell_type": "code",
      "source": [
        "# Check for 100 random numbers\n",
        "for _ in range(100):\n",
        "    # Draw an x in [-1, 1] to test WGate\n",
        "    x = random.rand() * 2 - 1\n",
        "\n",
        "    circ = QuantumCircuit(1)\n",
        "    circ.append(WGate(x), [0])\n",
        "\n",
        "    # Run circuit and return matrix\n",
        "    actual = Operator(circ).data\n",
        "\n",
        "    # Expected result from definition (transforms SymPy matrix into NumPy array)\n",
        "    expected = np.array(expected_w(x).evalf()).astype(complex)\n",
        "\n",
        "    assert np.allclose(actual, expected)\n",
        "\n",
        "\n",
        "    # Draw a ɸ in [0, 2π] to test SGate\n",
        "    phi = random.rand() * np.pi\n",
        "\n",
        "    circ = QuantumCircuit(1)\n",
        "    circ.append(SGate(phi), [0])\n",
        "\n",
        "    # Run circuit and return matrix\n",
        "    actual = Operator(circ).data\n",
        "\n",
        "    # Expected result from definition (transforms SymPy matrix into NumPy array)\n",
        "    expected = np.array(expected_s(phi).evalf()).astype(complex)\n",
        "\n",
        "    assert np.allclose(actual, expected)\n",
        "\n",
        "print(\"All tests passed.\")"
      ],
      "outputs": [],
      "execution_count": null,
      "metadata": {}
    },
    {
      "cell_type": "markdown",
      "source": [
        "Now that we have a better understanding of $W(x)$ and $S(\\phi)$, let's get back to quantum signal processing, or in short QSP.\n",
        "For a set of so-called *QSP phases* $\\vec \\phi = (\\phi_0, \\dots, \\phi_d)$ we can construct the unitary matrix\n",
        "$$ U^{\\vec\\phi} = S(\\phi_0)\\prod_{i=1}^d W(x) S(\\phi_i) = \\begin{pmatrix} P(x) & \\mathrm{i}Q(x) \\sqrt{1-x^2} \\\\ \\mathrm{i}Q^*(x)\\sqrt{1-x^2} & P^*(x) \\end{pmatrix}$$\n",
        "for some polynomials $P(x)$ and $Q(x)$ such that $\\mathrm{deg}(P) \\le d$, $\\mathrm{deg}(Q) < d$.  You can find more details about this remarkable result in [arXiv:1603.03996](https://arxiv.org/abs/1603.03996).\n",
        "\n",
        "Also the inverse direction works! Given any polynomial $P(x)$ that fulfills the requirement properties and some error bound $\\epsilon$ we can find QSP phases $\\vec\\phi$ from which we can build the alternating gate sequence $U^{\\vec\\phi}$.  Algorithms to find these phases are described, e.g., in [arXiv:1806.10236](https://arxiv.org/abs/1806.10236) and [arXiv:2003.02831](https://arxiv.org/abs/2003.02831).  But instead of using such approaches to find phases for some polynomial, we are picking some phases and use whatever polynomial results from them in our experiments."
      ],
      "metadata": {}
    },
    {
      "cell_type": "code",
      "source": [
        "def qsp_polynomial(x, phases):\n",
        "    \"\"\"\n",
        "    Given 𝑑 + 1 QSP phases ɸ[0], ..., ɸ[𝑑], returns the unitary matrix U^ɸ as described above,\n",
        "    the polynomial in its top-left corner, and the expression in the top-right corner.\"\"\"\n",
        "    assert phases, \"phases cannot be empty\"\n",
        "\n",
        "    poly = expected_s(phases[0])\n",
        "\n",
        "    for phi in phases[1:]:\n",
        "        poly = poly * expected_w(x) * expected_s(phi)\n",
        "    \n",
        "    poly = sp.simplify(poly)\n",
        "    return poly, poly[0, 0], poly[0, 1]"
      ],
      "outputs": [],
      "execution_count": null,
      "metadata": {}
    },
    {
      "cell_type": "markdown",
      "source": [
        "Let's use these functions to create a polynomial of degree 1 with phases $0.1$, $0.2$, $0.3$, and $0.4$."
      ],
      "metadata": {}
    },
    {
      "cell_type": "code",
      "source": [
        "# For now we want the polynomial symbolically for some variable 𝑥\n",
        "x = sp.Symbol('x')\n",
        "phases = [0.1, 0.2, 0.3, 0.4]\n",
        "\n",
        "# For our first experiment we do not need the polynomial in the top-right corner\n",
        "U, poly, _ = qsp_polynomial(x, phases)\n",
        "\n",
        "# We use this to circumvent a display problem with SymPy\n",
        "display(Markdown(poly._repr_latex_()))"
      ],
      "outputs": [],
      "execution_count": null,
      "metadata": {}
    },
    {
      "cell_type": "markdown",
      "source": [
        "Let's also plot the squared magnitude $|P(x)|^2$ of this polynomial in the range $x \\in [-1, 1]$."
      ],
      "metadata": {}
    },
    {
      "cell_type": "code",
      "source": [
        "# translate amplitude polynomial into probability polynomial\n",
        "poly_abs = sp.Abs(poly)**2\n",
        "\n",
        "# discretization points (this will correspond to the number of quantum jobs)\n",
        "discretization_points = 30\n",
        "\n",
        "xs = np.linspace(-1, 1, discretization_points)[1:-1]\n",
        "ys = [poly_abs.evalf(subs={'x': x}) for x in xs]\n",
        "\n",
        "fig = plt.figure()\n",
        "ax = fig.add_subplot(1, 1, 1)\n",
        "ax.plot(xs, ys)\n",
        "plt.show()"
      ],
      "outputs": [],
      "execution_count": null,
      "metadata": {}
    },
    {
      "cell_type": "markdown",
      "source": [
        "## 2. Simulating the QSP polynomial with a quantum circuit\n",
        "\n",
        "Next, we are creating the quantum circuit using $W$ and $S$ gates that is supposed to implement our target unitary with the QSP polynomial $P$ in the top-left corner."
      ],
      "metadata": {}
    },
    {
      "cell_type": "code",
      "source": [
        "def qsp_circuit(x, phases):\n",
        "    \"\"\"Creates a single-qubit unitary for some given QSP phases\"\"\"\n",
        "\n",
        "    # Map SumPy phases into NumPy phases and reverse them (gate application\n",
        "    # direction is opposite to matrix multiplication)\n",
        "    np_phases = [float(phi) for phi in phases]\n",
        "    np_phases.reverse()\n",
        "\n",
        "    circ = QuantumCircuit(1)\n",
        "\n",
        "    # We need to apply gates in reverse order to matrix multiplication\n",
        "    circ.append(SGate(np_phases[0]), [0])  # apply last angle\n",
        "    for phi in np_phases[1:]:           # iterate through all but last angle in reverse order\n",
        "        circ.append(WGate(x), [0])\n",
        "        circ.append(SGate(phi), [0])\n",
        "\n",
        "    return circ"
      ],
      "outputs": [],
      "execution_count": null,
      "metadata": {}
    },
    {
      "cell_type": "markdown",
      "source": [
        "We simulate the unitary matrices of QSP circuits constructed for some random values of $x \\in [-1, 1]$ and compare them to the unitary $U$ that we explicitly constructed above."
      ],
      "metadata": {}
    },
    {
      "cell_type": "code",
      "source": [
        "# Test QSP polynomial\n",
        "for _ in range(10):\n",
        "    x = random.rand() * 2.0 - 1.0\n",
        "\n",
        "    # Create circuit\n",
        "    circ = qsp_circuit(x, phases)\n",
        "\n",
        "    # Run circuit and return unitary matrix\n",
        "    actual = Operator(circ).data\n",
        "\n",
        "    # Expected result from U by plugging in x value for x symbol (transforms SymPy matrix into NumPy array)\n",
        "    expected = np.array(U.evalf(subs={'x': x})).astype(complex)\n",
        "\n",
        "    assert np.allclose(actual, expected)"
      ],
      "outputs": [],
      "execution_count": null,
      "metadata": {}
    },
    {
      "cell_type": "markdown",
      "source": [
        "Great, the test passes! This means we should be able to reconstruct the polynomial $|P(x)|^2$ that we plotted above by running the QSP circuit several times and estimating the measurement probability of receiving $|0\\rangle$ from various measurement results iterating through different values for $x$.\n",
        "We set ourselves up by first creating a function that takes as input a quantum circuit that can be parameterized for a value $x$, a set of values from which we draw $x$, as well as a number of shots that indicates how many times the circuit is run for each $x$.\n",
        "The function returns a list of measurement probabilities that approximate $|P(x)|^2$ based on running the QSP circuit.\n",
        "\n",
        "The reason that we approximate the probability of measuring $|0\\rangle$ is because we obtain $P(x) = \\langle 0|U^{\\vec\\phi} |0\\rangle$, i.e., as a projection to the top-left corner.\n",
        "\n",
        "For the upcoming experiments we are going to simulate the QSP polynomial on a quantum computing backend.\n",
        "To do this, we connect to the Azure Quantum service.\n",
        "We construct an instance of the `AzureQuantumProvider`. Note that it's imported from `azure.quantum.qiskit`."
      ],
      "metadata": {}
    },
    {
      "cell_type": "code",
      "source": [
        "from azure.quantum import Workspace\n",
        "from azure.quantum.qiskit import AzureQuantumProvider\n",
        "\n",
        "workspace = Workspace(\n",
        "            resource_id = \"/subscriptions/677fc922-91d0-4bf6-9b06-4274d319a0fa/resourceGroups/xiou/providers/Microsoft.Quantum/Workspaces/xiou-notebooks-demo\",\n",
        "            location = \"eastus2euap\")\n",
        "\n",
        "\n",
        "provider = AzureQuantumProvider(workspace)"
      ],
      "outputs": [],
      "execution_count": null,
      "metadata": {}
    },
    {
      "cell_type": "code",
      "source": [
        "# List all available targets\n",
        "print(\"This workspace's targets:\")\n",
        "for backend in provider.backends():\n",
        "    print(\"- \" + backend.name())\n",
        "\n",
        "# Select ionq.simulator target\n",
        "backend = provider.get_backend(\"ionq.simulator\")"
      ],
      "outputs": [],
      "execution_count": null,
      "metadata": {}
    },
    {
      "cell_type": "code",
      "source": [
        "def simulate_polynomial(circuit_function, xs, num_shots):\n",
        "    \"\"\"\n",
        "    This function creates experiment circuits for each `x` in `xs`,\n",
        "    simulates them for the given number of shots and returns a list\n",
        "    of measurement probabilities for each input value `x`.\n",
        "    \"\"\"\n",
        "    # Array in which we store all simulated probabilities\n",
        "    ys_simulated = []\n",
        "\n",
        "    # Submit jobs for each x\n",
        "    jobs = [backend.run(circuit_function(x), shots=num_shots) for x in xs]\n",
        "\n",
        "    # After we submitted all the jobs, we wait for each of them.\n",
        "    # It does not matter whether jobs finishes in a different order than they were executed, since we\n",
        "    # traverse the jobs in the same order as they were executed.\n",
        "    for job in jobs:\n",
        "        # Derive probability of |0⟩ outcome\n",
        "        counts = job.result().get_counts()\n",
        "        probability = counts.get('0', 0) / counts.shots()\n",
        "\n",
        "        # Append probability to simulated probabilities for plotting\n",
        "        ys_simulated.append(probability)\n",
        "\n",
        "    return ys_simulated"
      ],
      "outputs": [],
      "execution_count": null,
      "metadata": {}
    },
    {
      "cell_type": "markdown",
      "source": [
        "Let's try this function for our QSP circuit.  We can use the `qsp_circuit` function that we created above, but we must add a measurement instruction at the end of the circuit.\n",
        "Calling the `simulate_polynomial` function returns values that we plot alongside the values we got from directly evaluating the formula."
      ],
      "metadata": {}
    },
    {
      "cell_type": "code",
      "source": [
        "# Number of shots per x value (choose a higher x to increase the precision)\n",
        "num_shots = 100\n",
        "\n",
        "# Creates an experiment circuit based on x\n",
        "def experiment_circuit(x):\n",
        "    # Create circuit\n",
        "    circ = qsp_circuit(x, phases)\n",
        "\n",
        "    # Measure qubit\n",
        "    circ.measure_all()\n",
        "\n",
        "    # Transpile circuit\n",
        "    return transpile(circ, backend)\n",
        "\n",
        "ys_simulated = simulate_polynomial(experiment_circuit, xs, num_shots)\n",
        "\n",
        "# Plot both evaluated probabilities `ys`` and simulated ones `simulated_ys``\n",
        "fig = plt.figure()\n",
        "ax = fig.add_subplot(1, 1, 1)\n",
        "ax.plot(xs, ys, label='formula')\n",
        "ax.plot(xs, ys_simulated, label='simulated')\n",
        "plt.legend(loc='upper right')\n",
        "plt.show()"
      ],
      "outputs": [],
      "execution_count": null,
      "metadata": {}
    },
    {
      "cell_type": "markdown",
      "source": [
        "## 3. Projecting into the $\\{|+\\rangle, |-\\rangle\\}$ basis\n",
        "\n",
        "In the previous section we projected the unitary into the $\\{|0\\rangle, |1\\rangle\\}$ basis, and we could compute $\\langle 0|U^{\\vec\\phi}|0\\rangle = P(x)$.\n",
        "When projecting into the $\\{|+\\rangle, |-\\rangle\\}$ basis, we can construct a richer set of polynomials, since\n",
        "$$\n",
        "    \\langle +|U^{\\vec\\phi}|+\\rangle = \\mathrm{Re}(P(x)) + \\mathrm{i}\\cdot\\mathrm{Re}(Q(x))\\cdot\\sqrt{1 - x^2}\n",
        "$$"
      ],
      "metadata": {}
    },
    {
      "cell_type": "code",
      "source": [
        "# For now we want the polynomial symbolically for some variable 𝑥 and we use the same phases as above\n",
        "x = sp.Symbol('x')\n",
        "phases = [0.1, 0.2, 0.3, 0.4]\n",
        "\n",
        "# This time we need to the entry in the top-right corner of the unitary\n",
        "_, poly, qpoly = qsp_polynomial(x, phases)\n"
      ],
      "outputs": [],
      "execution_count": null,
      "metadata": {}
    },
    {
      "cell_type": "code",
      "source": [
        "# translate amplitude polynomial into probability polynomial\n",
        "sum_poly = sp.re(poly) + 1j * sp.re(qpoly / 1j)\n",
        "sum_poly_abs = sp.Abs(sum_poly)**2\n",
        "\n",
        "# we use the same number of discretization points\n",
        "discretization_points = 30\n",
        "\n",
        "# and evaluate the new polynomial for all values in xs\n",
        "xs = np.linspace(-1, 1, discretization_points)[1:-1]\n",
        "ys = [sum_poly_abs.evalf(subs={'x': x}) for x in xs]\n",
        "\n",
        "fig = plt.figure()\n",
        "ax = fig.add_subplot(1, 1, 1)\n",
        "ax.plot(xs, ys)\n",
        "plt.show()"
      ],
      "outputs": [],
      "execution_count": null,
      "metadata": {}
    },
    {
      "cell_type": "code",
      "source": [
        "# Creates an experiment circuit based on x (this time adds H gates to the beginning and end)\n",
        "def experiment_circuit(x):\n",
        "    # Create circuit\n",
        "    circ = qsp_circuit(x, phases)\n",
        "\n",
        "    # Sandwich the circuit with H gates\n",
        "    h_circ = QuantumCircuit(1)\n",
        "    h_circ.h(0)\n",
        "    circ = h_circ.compose(circ).compose(h_circ)\n",
        "\n",
        "    # Measure qubit\n",
        "    circ.measure_all()\n",
        "\n",
        "    # Transpile circuit\n",
        "    return transpile(circ, backend)\n",
        "\n",
        "ys_simulated = simulate_polynomial(experiment_circuit, xs, num_shots)\n",
        "\n",
        "# Plot both evaluated probabilities `ys`` and simulated ones `simulated_ys``\n",
        "fig = plt.figure()\n",
        "ax = fig.add_subplot(1, 1, 1)\n",
        "ax.plot(xs, ys, label='formula')\n",
        "ax.plot(xs, ys_simulated, label='simulated')\n",
        "plt.legend(loc='upper right')\n",
        "plt.show()"
      ],
      "outputs": [],
      "execution_count": null,
      "metadata": {}
    },
    {
      "cell_type": "markdown",
      "source": [
        "## 4. Next steps\n",
        "\n",
        "We hope you enjoyed our concrete demonstration of quantum signal processing. We encourage you to explore this notebook further, for example by:\n",
        "\n",
        "* Trying out different phase angles to construct other polynomials.\n",
        "* Changing the number of discretization points and number of shots to increase or decrease the precision of the plots.\n",
        "* Trying out different backends: How would the 3D-bar plot look like when running on a real QPU? Just replace `ionq.simulator` by `ionq.qpu.aria-1`.\n",
        "\n",
        "To learn more about submitting Qiskit circuits to Azure Quantum, review [the Azure Quantum documentation](https://learn.microsoft.com/azure/quantum/quickstart-microsoft-qiskit).\n",
        "\n",
        "To learn more about job pricing, also review [the Azure Quantum documentation](https://learn.microsoft.com/azure/quantum/azure-quantum-job-costs)."
      ],
      "metadata": {}
    }
  ],
  "metadata": {
    "interpreter": {
      "hash": "40a127b815e0f3d9ba005ae61d1209300c83351d477b6364f3bffc3e84aab6de"
    },
    "kernel_info": {
      "name": "python3"
    },
    "kernelspec": {
      "name": "python3",
      "language": "python",
      "display_name": "Python 3 (ipykernel)"
    },
    "language_info": {
      "name": "python",
      "version": "3.9.18",
      "mimetype": "text/x-python",
      "codemirror_mode": {
        "name": "ipython",
        "version": 3
      },
      "pygments_lexer": "ipython3",
      "nbconvert_exporter": "python",
      "file_extension": ".py"
    },
    "nteract": {
      "version": "nteract-front-end@1.0.0"
    },
    "microsoft": {
      "host": {
        "AzureQuantum": {
          "sourceType": "SampleGallery",
          "sourceLink": "https://raw.githubusercontent.com/microsoft/azure-quantum-python/3c866c64f1416baa6b5350d97bd61679e1c201b4/samples/quantum-signal-processing/signal-processing.ipynb"
        }
      }
    }
  },
  "nbformat": 4,
  "nbformat_minor": 2
}